{
  "nbformat": 4,
  "nbformat_minor": 0,
  "metadata": {
    "colab": {
      "provenance": [],
      "authorship_tag": "ABX9TyOCENYvPGZdq24dH13qfKJ3",
      "include_colab_link": true
    },
    "kernelspec": {
      "name": "python3",
      "display_name": "Python 3"
    },
    "language_info": {
      "name": "python"
    }
  },
  "cells": [
    {
      "cell_type": "markdown",
      "metadata": {
        "id": "view-in-github",
        "colab_type": "text"
      },
      "source": [
        "<a href=\"https://colab.research.google.com/github/zhiarali/bisection-method/blob/main/zhiar_ali_bisection.ipynb\" target=\"_parent\"><img src=\"https://colab.research.google.com/assets/colab-badge.svg\" alt=\"Open In Colab\"/></a>"
      ]
    },
    {
      "cell_type": "code",
      "execution_count": null,
      "metadata": {
        "colab": {
          "base_uri": "https://localhost:8080/"
        },
        "id": "8X-_L9DPlz9W",
        "outputId": "d38557f9-f1f8-466b-fc1b-6e068bed21c4"
      },
      "outputs": [
        {
          "output_type": "stream",
          "name": "stdout",
          "text": [
            "Solution Found : 1.0866913309995958\n"
          ]
        }
      ],
      "source": [
        "def bisection(f , a , b ):\n",
        "    fa = f(a)\n",
        "    fb = f(b)\n",
        "\n",
        "\n",
        "    if fa * fb > 0:\n",
        "        print(\"f(a) and f(b) must be different signs :(\")\n",
        "        return None\n",
        "\n",
        "    for _ in range(100):  # 100 iteration\n",
        "        c = (a + b) / 2\n",
        "        fc = f(c)\n",
        "\n",
        "        if fc == 0:\n",
        "            return c\n",
        "        if fa * fc > 0:\n",
        "            a = c\n",
        "            fa = fc\n",
        "        if fb * fc > 0:\n",
        "            b = c\n",
        "            fb = fc\n",
        "\n",
        "    return c\n",
        "\n",
        "\n",
        "func = lambda x: 2*x**3+5*x-8\n",
        "\n",
        "a = 1\n",
        "b = 2\n",
        "\n",
        "x = bisection(func, a, b)\n",
        "print(f\"Solution Found : {x}\")"
      ]
    }
  ]
}